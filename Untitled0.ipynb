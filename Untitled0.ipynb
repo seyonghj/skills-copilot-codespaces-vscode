{
  "nbformat": 4,
  "nbformat_minor": 0,
  "metadata": {
    "colab": {
      "provenance": [],
      "authorship_tag": "ABX9TyNyqVjpA/TYCSPwywpJYEEm",
      "include_colab_link": true
    },
    "kernelspec": {
      "name": "python3",
      "display_name": "Python 3"
    },
    "language_info": {
      "name": "python"
    }
  },
  "cells": [
    {
      "cell_type": "markdown",
      "metadata": {
        "id": "view-in-github",
        "colab_type": "text"
      },
      "source": [
        "<a href=\"https://colab.research.google.com/github/seyonghj/skills-copilot-codespaces-vscode/blob/main/Untitled0.ipynb\" target=\"_parent\"><img src=\"https://colab.research.google.com/assets/colab-badge.svg\" alt=\"Open In Colab\"/></a>"
      ]
    },
    {
      "cell_type": "code",
      "execution_count": 2,
      "metadata": {
        "colab": {
          "base_uri": "https://localhost:8080/"
        },
        "id": "RyOCPNckVaR0",
        "outputId": "0d50d50c-88d0-4c7f-ca1a-c0001a7ab536"
      },
      "outputs": [
        {
          "output_type": "stream",
          "name": "stdout",
          "text": [
            "The maximum value in the list is: 100\n"
          ]
        }
      ],
      "source": [
        "my_list = [3, 21, 7, 10, 5, 100]\n",
        "\n",
        "# start with the first value\n",
        "max_value = my_list[0]\n",
        "\n",
        "# compare step by step using if...else\n",
        "if my_list[1] > max_value:\n",
        "    max_value = my_list[1]\n",
        "else:\n",
        "    max_value = max_value\n",
        "\n",
        "if my_list[2] > max_value:\n",
        "    max_value = my_list[2]\n",
        "else:\n",
        "    max_value = max_value\n",
        "\n",
        "if my_list[3] > max_value:\n",
        "    max_value = my_list[3]\n",
        "else:\n",
        "    max_value = max_value\n",
        "\n",
        "if my_list[4] > max_value:\n",
        "    max_value = my_list[4]\n",
        "else:\n",
        "    max_value = max_value\n",
        "\n",
        "if my_list[5] > max_value:\n",
        "    max_value = my_list[5]\n",
        "else:\n",
        "    max_value = max_value\n",
        "\n",
        "print(f\"The maximum value in the list is: {max_value}\")\n"
      ]
    },
    {
      "cell_type": "code",
      "source": [
        "my_list = [3, 21, 7, 10, 5, 100]\n",
        "max_value = my_list[0]\n",
        "\n",
        "for i in range(1, len(my_list)):\n",
        "    if my_list[i] > max_value:\n",
        "        max_value = my_list[i]\n",
        "    else:\n",
        "        max_value = max_value  # explicitly showing else (does nothing)\n",
        "\n",
        "print(f\"The maximum value in the list is: {max_value}\")\n"
      ],
      "metadata": {
        "colab": {
          "base_uri": "https://localhost:8080/"
        },
        "id": "llxG9QmnWRgC",
        "outputId": "bd651682-fa3b-4358-9b54-36263c7a18da"
      },
      "execution_count": 3,
      "outputs": [
        {
          "output_type": "stream",
          "name": "stdout",
          "text": [
            "The maximum value in the list is: 100\n"
          ]
        }
      ]
    },
    {
      "cell_type": "code",
      "source": [
        "my_list = [3, 21, 7, 10, 5, 100]\n",
        "\n",
        "def find_max(lst, index=0, current_max=None):\n",
        "    if current_max is None:\n",
        "        current_max = lst[0]\n",
        "\n",
        "    if index == len(lst):\n",
        "        return current_max\n",
        "    else:\n",
        "        if lst[index] > current_max:\n",
        "            current_max = lst[index]\n",
        "        else:\n",
        "            current_max = current_max\n",
        "        return find_max(lst, index + 1, current_max)\n",
        "\n",
        "max_value = find_max(my_list)\n",
        "print(f\"The maximum value in the list is: {max_value}\")\n"
      ],
      "metadata": {
        "colab": {
          "base_uri": "https://localhost:8080/"
        },
        "id": "ifcpbUc0WpOB",
        "outputId": "fe954d79-9706-4d4f-9fd1-f80aae41302b"
      },
      "execution_count": 4,
      "outputs": [
        {
          "output_type": "stream",
          "name": "stdout",
          "text": [
            "The maximum value in the list is: 100\n"
          ]
        }
      ]
    },
    {
      "cell_type": "code",
      "source": [
        "my_list = [3, 21, 7, 10, 5, 100]\n",
        "\n",
        "max_value = my_list[0]\n",
        "i = 1\n",
        "\n",
        "while i < len(my_list):\n",
        "    if my_list[i] > max_value:\n",
        "        max_value = my_list[i]\n",
        "    else:\n",
        "        max_value = max_value\n",
        "    i += 1\n",
        "\n",
        "print(f\"The maximum value in the list is: {max_value}\")\n"
      ],
      "metadata": {
        "colab": {
          "base_uri": "https://localhost:8080/"
        },
        "id": "4i1YFz06Ws82",
        "outputId": "fb1e1b9c-8da5-4be2-f499-86bee1a86da3"
      },
      "execution_count": 5,
      "outputs": [
        {
          "output_type": "stream",
          "name": "stdout",
          "text": [
            "The maximum value in the list is: 100\n"
          ]
        }
      ]
    }
  ]
}